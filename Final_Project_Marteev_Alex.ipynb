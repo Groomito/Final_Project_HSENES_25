{
 "cells": [
  {
   "cell_type": "markdown",
   "id": "ae7b9e21",
   "metadata": {},
   "source": [
    "Используемые технологии (эту графу делал для себя, но грейдерам тоже может быть полезна):\n",
    "    * pandas \n",
    "    * API \n",
    "    * beautifulsoup\n",
    "    * Регулярные выражения (использовались для правки испорченных данных)\n",
    "    * numpy/scipy, SymPy\n",
    "    * geopandas, shapely, folium\n",
    "    * networkx\n",
    "    * matplot\n",
    "    * sql\n",
    "    * МО\n",
    "    * доп технологии\n",
    "    * Документация"
   ]
  },
  {
   "cell_type": "code",
   "execution_count": 1,
   "id": "7d075eea",
   "metadata": {},
   "outputs": [],
   "source": [
    "#pip install mysql-connector-python\n",
    "#pip install yfinance\n",
    "#pip install QuantLib\n",
    "#Эти библиотеки нужно загрузить, чтобы проект работал"
   ]
  },
  {
   "cell_type": "markdown",
   "id": "483121e3",
   "metadata": {},
   "source": [
    "# Хедж фонды"
   ]
  },
  {
   "cell_type": "markdown",
   "id": "cb29b726",
   "metadata": {},
   "source": [
    "### В этой работе посмотрим на мировой рынок хедж фондов и поработаем с финансовыми данными"
   ]
  },
  {
   "cell_type": "markdown",
   "id": "e5d058a9",
   "metadata": {},
   "source": [
    "Сначала скачаем общие данные по хедж-фондам и поанализируем - интересно узнать откуда они взялись, когда и всё в этом духе"
   ]
  },
  {
   "cell_type": "code",
   "execution_count": 2,
   "id": "fb21bb04",
   "metadata": {},
   "outputs": [
    {
     "name": "stderr",
     "output_type": "stream",
     "text": [
      "/Users/Alex/opt/anaconda3/lib/python3.9/site-packages/scipy/__init__.py:146: UserWarning: A NumPy version >=1.16.5 and <1.23.0 is required for this version of SciPy (detected version 1.23.5\n",
      "  warnings.warn(f\"A NumPy version >={np_minversion} and <{np_maxversion}\"\n"
     ]
    }
   ],
   "source": [
    "#Скачаем основные библиотеки, которые будем использовать\n",
    "import numpy as np\n",
    "import pandas as pd\n",
    "import matplotlib.pyplot as plt\n",
    "import networkx as nx\n",
    "import mysql.connector\n",
    "from mysql.connector import Error\n",
    "import geopandas as gpd\n",
    "import requests\n",
    "from bs4 import BeautifulSoup\n",
    "import yfinance as yf\n",
    "import sqlite3\n",
    "import QuantLib as ql\n",
    "from sklearn.model_selection import train_test_split\n",
    "from sklearn.linear_model import LinearRegression\n",
    "import seaborn as sns"
   ]
  },
  {
   "cell_type": "markdown",
   "id": "44ffb167",
   "metadata": {},
   "source": [
    "### DataSet №1"
   ]
  },
  {
   "cell_type": "code",
   "execution_count": 3,
   "id": "f326adb0",
   "metadata": {},
   "outputs": [],
   "source": [
    "#Здесь впишите свой путь до файла\n",
    "tracxn_database = pd.read_csv('/Users/Alex/Desktop/Hedge_funds_1.csv', sep=';') \n",
    "#ВАЖНО: я брал его с ресурса по корпоративной подписке, поэтому просьба не распространять его"
   ]
  },
  {
   "cell_type": "code",
   "execution_count": 4,
   "id": "2b485387",
   "metadata": {},
   "outputs": [
    {
     "data": {
      "text/html": [
       "<div>\n",
       "<style scoped>\n",
       "    .dataframe tbody tr th:only-of-type {\n",
       "        vertical-align: middle;\n",
       "    }\n",
       "\n",
       "    .dataframe tbody tr th {\n",
       "        vertical-align: top;\n",
       "    }\n",
       "\n",
       "    .dataframe thead th {\n",
       "        text-align: right;\n",
       "    }\n",
       "</style>\n",
       "<table border=\"1\" class=\"dataframe\">\n",
       "  <thead>\n",
       "    <tr style=\"text-align: right;\">\n",
       "      <th></th>\n",
       "      <th>SNo.</th>\n",
       "      <th>Company Name</th>\n",
       "      <th>Domain Name</th>\n",
       "      <th>Founded Year</th>\n",
       "      <th>Country</th>\n",
       "      <th>City</th>\n",
       "      <th>Practice Areas</th>\n",
       "      <th>Feed Name</th>\n",
       "      <th>Special Flags : Yes</th>\n",
       "      <th>Special Flags : No</th>\n",
       "      <th>Company Stage</th>\n",
       "      <th>Is Funded</th>\n",
       "      <th>Total Funding (USD)</th>\n",
       "      <th>Total Employee Count</th>\n",
       "      <th>Is IPO</th>\n",
       "    </tr>\n",
       "  </thead>\n",
       "  <tbody>\n",
       "    <tr>\n",
       "      <th>0</th>\n",
       "      <td>1</td>\n",
       "      <td>BlackRock</td>\n",
       "      <td>blackrock.com</td>\n",
       "      <td>1988.0</td>\n",
       "      <td>United States</td>\n",
       "      <td>New York City</td>\n",
       "      <td>Investment Industry,\\nInvestment Industry,\\nIn...</td>\n",
       "      <td>Private Debt Funds,\\nReal Estate Funds,\\nSecon...</td>\n",
       "      <td>NaN</td>\n",
       "      <td>NaN</td>\n",
       "      <td>Public</td>\n",
       "      <td>Yes</td>\n",
       "      <td>NaN</td>\n",
       "      <td>13 900</td>\n",
       "      <td>No</td>\n",
       "    </tr>\n",
       "    <tr>\n",
       "      <th>1</th>\n",
       "      <td>2</td>\n",
       "      <td>Blackstone</td>\n",
       "      <td>blackstone.com</td>\n",
       "      <td>1985.0</td>\n",
       "      <td>United States,\\nUnited Kingdom,\\nChina,\\nUnite...</td>\n",
       "      <td>New York City,\\nLondon,\\nHong Kong,\\nBaltimore...</td>\n",
       "      <td>Investment Industry,\\nInvestment Industry,\\nIn...</td>\n",
       "      <td>Private Equity Funds,\\nLimited Partners,\\nPriv...</td>\n",
       "      <td>NaN</td>\n",
       "      <td>Social Impact</td>\n",
       "      <td>Public</td>\n",
       "      <td>No</td>\n",
       "      <td>NaN</td>\n",
       "      <td>3</td>\n",
       "      <td>Yes</td>\n",
       "    </tr>\n",
       "    <tr>\n",
       "      <th>2</th>\n",
       "      <td>3</td>\n",
       "      <td>KKR</td>\n",
       "      <td>kkr.com</td>\n",
       "      <td>1976.0</td>\n",
       "      <td>United States,\\nUnited States,\\nUnited States,...</td>\n",
       "      <td>New York City,\\nHouston,\\nSan Francisco,\\nMenl...</td>\n",
       "      <td>Investment Industry,\\nInvestment Industry,\\nIn...</td>\n",
       "      <td>Private Equity Funds,\\nPrivate Debt Funds,\\nRe...</td>\n",
       "      <td>NaN</td>\n",
       "      <td>Social Impact</td>\n",
       "      <td>Funding Raised</td>\n",
       "      <td>Yes</td>\n",
       "      <td>NaN</td>\n",
       "      <td>NaN</td>\n",
       "      <td>No</td>\n",
       "    </tr>\n",
       "    <tr>\n",
       "      <th>3</th>\n",
       "      <td>4</td>\n",
       "      <td>Citadel</td>\n",
       "      <td>citadel.com</td>\n",
       "      <td>1990.0</td>\n",
       "      <td>United States</td>\n",
       "      <td>Chicago</td>\n",
       "      <td>Investment Industry</td>\n",
       "      <td>Hedge Funds</td>\n",
       "      <td>NaN</td>\n",
       "      <td>Social Impact</td>\n",
       "      <td>Acquired</td>\n",
       "      <td>No</td>\n",
       "      <td>NaN</td>\n",
       "      <td>NaN</td>\n",
       "      <td>No</td>\n",
       "    </tr>\n",
       "    <tr>\n",
       "      <th>4</th>\n",
       "      <td>5</td>\n",
       "      <td>D. E. Shaw Group</td>\n",
       "      <td>deshaw.com</td>\n",
       "      <td>1988.0</td>\n",
       "      <td>United States</td>\n",
       "      <td>New York City</td>\n",
       "      <td>Investment Industry,\\nFinancial Services</td>\n",
       "      <td>Hedge Funds,\\nAsset Management</td>\n",
       "      <td>Enterprise</td>\n",
       "      <td>Blockchain,\\nArtificial Intelligence,\\nSocial ...</td>\n",
       "      <td>Acquired</td>\n",
       "      <td>No</td>\n",
       "      <td>NaN</td>\n",
       "      <td>NaN</td>\n",
       "      <td>No</td>\n",
       "    </tr>\n",
       "    <tr>\n",
       "      <th>5</th>\n",
       "      <td>6</td>\n",
       "      <td>TCX</td>\n",
       "      <td>tcxfund.com</td>\n",
       "      <td>2007.0</td>\n",
       "      <td>Netherlands</td>\n",
       "      <td>Amsterdam</td>\n",
       "      <td>Investment Industry</td>\n",
       "      <td>Hedge Funds</td>\n",
       "      <td>NaN</td>\n",
       "      <td>Social Impact</td>\n",
       "      <td>Series B</td>\n",
       "      <td>Yes</td>\n",
       "      <td>59d838593</td>\n",
       "      <td>NaN</td>\n",
       "      <td>No</td>\n",
       "    </tr>\n",
       "  </tbody>\n",
       "</table>\n",
       "</div>"
      ],
      "text/plain": [
       "   SNo.      Company Name     Domain Name  Founded Year  \\\n",
       "0     1         BlackRock   blackrock.com        1988.0   \n",
       "1     2        Blackstone  blackstone.com        1985.0   \n",
       "2     3               KKR         kkr.com        1976.0   \n",
       "3     4           Citadel     citadel.com        1990.0   \n",
       "4     5  D. E. Shaw Group      deshaw.com        1988.0   \n",
       "5     6               TCX     tcxfund.com        2007.0   \n",
       "\n",
       "                                             Country  \\\n",
       "0                                      United States   \n",
       "1  United States,\\nUnited Kingdom,\\nChina,\\nUnite...   \n",
       "2  United States,\\nUnited States,\\nUnited States,...   \n",
       "3                                      United States   \n",
       "4                                      United States   \n",
       "5                                        Netherlands   \n",
       "\n",
       "                                                City  \\\n",
       "0                                      New York City   \n",
       "1  New York City,\\nLondon,\\nHong Kong,\\nBaltimore...   \n",
       "2  New York City,\\nHouston,\\nSan Francisco,\\nMenl...   \n",
       "3                                            Chicago   \n",
       "4                                      New York City   \n",
       "5                                          Amsterdam   \n",
       "\n",
       "                                      Practice Areas  \\\n",
       "0  Investment Industry,\\nInvestment Industry,\\nIn...   \n",
       "1  Investment Industry,\\nInvestment Industry,\\nIn...   \n",
       "2  Investment Industry,\\nInvestment Industry,\\nIn...   \n",
       "3                                Investment Industry   \n",
       "4           Investment Industry,\\nFinancial Services   \n",
       "5                                Investment Industry   \n",
       "\n",
       "                                           Feed Name Special Flags : Yes  \\\n",
       "0  Private Debt Funds,\\nReal Estate Funds,\\nSecon...                 NaN   \n",
       "1  Private Equity Funds,\\nLimited Partners,\\nPriv...                 NaN   \n",
       "2  Private Equity Funds,\\nPrivate Debt Funds,\\nRe...                 NaN   \n",
       "3                                        Hedge Funds                 NaN   \n",
       "4                     Hedge Funds,\\nAsset Management          Enterprise   \n",
       "5                                        Hedge Funds                 NaN   \n",
       "\n",
       "                                  Special Flags : No   Company Stage  \\\n",
       "0                                                NaN          Public   \n",
       "1                                      Social Impact          Public   \n",
       "2                                      Social Impact  Funding Raised   \n",
       "3                                      Social Impact        Acquired   \n",
       "4  Blockchain,\\nArtificial Intelligence,\\nSocial ...        Acquired   \n",
       "5                                      Social Impact        Series B   \n",
       "\n",
       "  Is Funded Total Funding (USD) Total Employee Count Is IPO  \n",
       "0       Yes                 NaN               13 900     No  \n",
       "1        No                 NaN                    3    Yes  \n",
       "2       Yes                 NaN                  NaN     No  \n",
       "3        No                 NaN                  NaN     No  \n",
       "4        No                 NaN                  NaN     No  \n",
       "5       Yes           59d838593                  NaN     No  "
      ]
     },
     "execution_count": 4,
     "metadata": {},
     "output_type": "execute_result"
    }
   ],
   "source": [
    "tracxn_database.head(6)"
   ]
  },
  {
   "cell_type": "markdown",
   "id": "dab105e6",
   "metadata": {},
   "source": [
    "### Data Preparation"
   ]
  },
  {
   "cell_type": "markdown",
   "id": "a0e4bebd",
   "metadata": {},
   "source": [
    "Посмотрим на типы данных"
   ]
  },
  {
   "cell_type": "code",
   "execution_count": 5,
   "id": "aafddb4a",
   "metadata": {},
   "outputs": [
    {
     "data": {
      "text/plain": [
       "SNo.                      int64\n",
       "Company Name             object\n",
       "Domain Name              object\n",
       "Founded Year            float64\n",
       "Country                  object\n",
       "City                     object\n",
       "Practice Areas           object\n",
       "Feed Name                object\n",
       "Special Flags : Yes      object\n",
       "Special Flags : No       object\n",
       "Company Stage            object\n",
       "Is Funded                object\n",
       "Total Funding (USD)      object\n",
       "Total Employee Count     object\n",
       "Is IPO                   object\n",
       "dtype: object"
      ]
     },
     "metadata": {},
     "output_type": "display_data"
    }
   ],
   "source": [
    "display(tracxn_database.dtypes)"
   ]
  },
  {
   "cell_type": "markdown",
   "id": "3eddb170",
   "metadata": {},
   "source": [
    "Видны некотрые несоответствия"
   ]
  },
  {
   "cell_type": "markdown",
   "id": "7709a6c6",
   "metadata": {},
   "source": [
    "Во-первых изменим тип данных столбца 'Founded Year', он очевидно должен быть float-ом. Но сперва избавимся от NaN значений, заменив их нулями - в дальнейшем будем просто их игнорировать"
   ]
  },
  {
   "cell_type": "code",
   "execution_count": 6,
   "id": "c6c558ac",
   "metadata": {},
   "outputs": [],
   "source": [
    "tracxn_database['Founded Year'] = tracxn_database['Founded Year'].fillna(0)\n",
    "tracxn_database['Founded Year'] = tracxn_database['Founded Year'].astype(int)"
   ]
  },
  {
   "cell_type": "code",
   "execution_count": 7,
   "id": "dbb88234",
   "metadata": {},
   "outputs": [
    {
     "data": {
      "text/html": [
       "<div>\n",
       "<style scoped>\n",
       "    .dataframe tbody tr th:only-of-type {\n",
       "        vertical-align: middle;\n",
       "    }\n",
       "\n",
       "    .dataframe tbody tr th {\n",
       "        vertical-align: top;\n",
       "    }\n",
       "\n",
       "    .dataframe thead th {\n",
       "        text-align: right;\n",
       "    }\n",
       "</style>\n",
       "<table border=\"1\" class=\"dataframe\">\n",
       "  <thead>\n",
       "    <tr style=\"text-align: right;\">\n",
       "      <th></th>\n",
       "      <th>SNo.</th>\n",
       "      <th>Company Name</th>\n",
       "      <th>Domain Name</th>\n",
       "      <th>Founded Year</th>\n",
       "      <th>Country</th>\n",
       "      <th>City</th>\n",
       "      <th>Practice Areas</th>\n",
       "      <th>Feed Name</th>\n",
       "      <th>Special Flags : Yes</th>\n",
       "      <th>Special Flags : No</th>\n",
       "      <th>Company Stage</th>\n",
       "      <th>Is Funded</th>\n",
       "      <th>Total Funding (USD)</th>\n",
       "      <th>Total Employee Count</th>\n",
       "      <th>Is IPO</th>\n",
       "    </tr>\n",
       "  </thead>\n",
       "  <tbody>\n",
       "    <tr>\n",
       "      <th>0</th>\n",
       "      <td>1</td>\n",
       "      <td>BlackRock</td>\n",
       "      <td>blackrock.com</td>\n",
       "      <td>1988</td>\n",
       "      <td>United States</td>\n",
       "      <td>New York City</td>\n",
       "      <td>Investment Industry,\\nInvestment Industry,\\nIn...</td>\n",
       "      <td>Private Debt Funds,\\nReal Estate Funds,\\nSecon...</td>\n",
       "      <td>NaN</td>\n",
       "      <td>NaN</td>\n",
       "      <td>Public</td>\n",
       "      <td>Yes</td>\n",
       "      <td>NaN</td>\n",
       "      <td>13 900</td>\n",
       "      <td>No</td>\n",
       "    </tr>\n",
       "    <tr>\n",
       "      <th>1</th>\n",
       "      <td>2</td>\n",
       "      <td>Blackstone</td>\n",
       "      <td>blackstone.com</td>\n",
       "      <td>1985</td>\n",
       "      <td>United States,\\nUnited Kingdom,\\nChina,\\nUnite...</td>\n",
       "      <td>New York City,\\nLondon,\\nHong Kong,\\nBaltimore...</td>\n",
       "      <td>Investment Industry,\\nInvestment Industry,\\nIn...</td>\n",
       "      <td>Private Equity Funds,\\nLimited Partners,\\nPriv...</td>\n",
       "      <td>NaN</td>\n",
       "      <td>Social Impact</td>\n",
       "      <td>Public</td>\n",
       "      <td>No</td>\n",
       "      <td>NaN</td>\n",
       "      <td>3</td>\n",
       "      <td>Yes</td>\n",
       "    </tr>\n",
       "    <tr>\n",
       "      <th>2</th>\n",
       "      <td>3</td>\n",
       "      <td>KKR</td>\n",
       "      <td>kkr.com</td>\n",
       "      <td>1976</td>\n",
       "      <td>United States,\\nUnited States,\\nUnited States,...</td>\n",
       "      <td>New York City,\\nHouston,\\nSan Francisco,\\nMenl...</td>\n",
       "      <td>Investment Industry,\\nInvestment Industry,\\nIn...</td>\n",
       "      <td>Private Equity Funds,\\nPrivate Debt Funds,\\nRe...</td>\n",
       "      <td>NaN</td>\n",
       "      <td>Social Impact</td>\n",
       "      <td>Funding Raised</td>\n",
       "      <td>Yes</td>\n",
       "      <td>NaN</td>\n",
       "      <td>NaN</td>\n",
       "      <td>No</td>\n",
       "    </tr>\n",
       "    <tr>\n",
       "      <th>3</th>\n",
       "      <td>4</td>\n",
       "      <td>Citadel</td>\n",
       "      <td>citadel.com</td>\n",
       "      <td>1990</td>\n",
       "      <td>United States</td>\n",
       "      <td>Chicago</td>\n",
       "      <td>Investment Industry</td>\n",
       "      <td>Hedge Funds</td>\n",
       "      <td>NaN</td>\n",
       "      <td>Social Impact</td>\n",
       "      <td>Acquired</td>\n",
       "      <td>No</td>\n",
       "      <td>NaN</td>\n",
       "      <td>NaN</td>\n",
       "      <td>No</td>\n",
       "    </tr>\n",
       "    <tr>\n",
       "      <th>4</th>\n",
       "      <td>5</td>\n",
       "      <td>D. E. Shaw Group</td>\n",
       "      <td>deshaw.com</td>\n",
       "      <td>1988</td>\n",
       "      <td>United States</td>\n",
       "      <td>New York City</td>\n",
       "      <td>Investment Industry,\\nFinancial Services</td>\n",
       "      <td>Hedge Funds,\\nAsset Management</td>\n",
       "      <td>Enterprise</td>\n",
       "      <td>Blockchain,\\nArtificial Intelligence,\\nSocial ...</td>\n",
       "      <td>Acquired</td>\n",
       "      <td>No</td>\n",
       "      <td>NaN</td>\n",
       "      <td>NaN</td>\n",
       "      <td>No</td>\n",
       "    </tr>\n",
       "  </tbody>\n",
       "</table>\n",
       "</div>"
      ],
      "text/plain": [
       "   SNo.      Company Name     Domain Name  Founded Year  \\\n",
       "0     1         BlackRock   blackrock.com          1988   \n",
       "1     2        Blackstone  blackstone.com          1985   \n",
       "2     3               KKR         kkr.com          1976   \n",
       "3     4           Citadel     citadel.com          1990   \n",
       "4     5  D. E. Shaw Group      deshaw.com          1988   \n",
       "\n",
       "                                             Country  \\\n",
       "0                                      United States   \n",
       "1  United States,\\nUnited Kingdom,\\nChina,\\nUnite...   \n",
       "2  United States,\\nUnited States,\\nUnited States,...   \n",
       "3                                      United States   \n",
       "4                                      United States   \n",
       "\n",
       "                                                City  \\\n",
       "0                                      New York City   \n",
       "1  New York City,\\nLondon,\\nHong Kong,\\nBaltimore...   \n",
       "2  New York City,\\nHouston,\\nSan Francisco,\\nMenl...   \n",
       "3                                            Chicago   \n",
       "4                                      New York City   \n",
       "\n",
       "                                      Practice Areas  \\\n",
       "0  Investment Industry,\\nInvestment Industry,\\nIn...   \n",
       "1  Investment Industry,\\nInvestment Industry,\\nIn...   \n",
       "2  Investment Industry,\\nInvestment Industry,\\nIn...   \n",
       "3                                Investment Industry   \n",
       "4           Investment Industry,\\nFinancial Services   \n",
       "\n",
       "                                           Feed Name Special Flags : Yes  \\\n",
       "0  Private Debt Funds,\\nReal Estate Funds,\\nSecon...                 NaN   \n",
       "1  Private Equity Funds,\\nLimited Partners,\\nPriv...                 NaN   \n",
       "2  Private Equity Funds,\\nPrivate Debt Funds,\\nRe...                 NaN   \n",
       "3                                        Hedge Funds                 NaN   \n",
       "4                     Hedge Funds,\\nAsset Management          Enterprise   \n",
       "\n",
       "                                  Special Flags : No   Company Stage  \\\n",
       "0                                                NaN          Public   \n",
       "1                                      Social Impact          Public   \n",
       "2                                      Social Impact  Funding Raised   \n",
       "3                                      Social Impact        Acquired   \n",
       "4  Blockchain,\\nArtificial Intelligence,\\nSocial ...        Acquired   \n",
       "\n",
       "  Is Funded Total Funding (USD) Total Employee Count Is IPO  \n",
       "0       Yes                 NaN               13 900     No  \n",
       "1        No                 NaN                    3    Yes  \n",
       "2       Yes                 NaN                  NaN     No  \n",
       "3        No                 NaN                  NaN     No  \n",
       "4        No                 NaN                  NaN     No  "
      ]
     },
     "execution_count": 7,
     "metadata": {},
     "output_type": "execute_result"
    }
   ],
   "source": [
    "tracxn_database.head()"
   ]
  },
  {
   "cell_type": "markdown",
   "id": "92819b33",
   "metadata": {},
   "source": [
    "Еще бы изменить тип стобцов 'Total Funding (USD)'. Заменим NaN на 0 и в дальнейшем будем также их игнорировать. Но сперва для этого придется избавиться от пробелов и букв (которые почему-то присутствуют - данные испорчены) в данных, так как числа там записаны именно в таком формате. Здесь пригодятся регулярные выражения"
   ]
  },
  {
   "cell_type": "code",
   "execution_count": 8,
   "id": "01a4f644",
   "metadata": {},
   "outputs": [
    {
     "data": {
      "text/html": [
       "<div>\n",
       "<style scoped>\n",
       "    .dataframe tbody tr th:only-of-type {\n",
       "        vertical-align: middle;\n",
       "    }\n",
       "\n",
       "    .dataframe tbody tr th {\n",
       "        vertical-align: top;\n",
       "    }\n",
       "\n",
       "    .dataframe thead th {\n",
       "        text-align: right;\n",
       "    }\n",
       "</style>\n",
       "<table border=\"1\" class=\"dataframe\">\n",
       "  <thead>\n",
       "    <tr style=\"text-align: right;\">\n",
       "      <th></th>\n",
       "      <th>SNo.</th>\n",
       "      <th>Company Name</th>\n",
       "      <th>Domain Name</th>\n",
       "      <th>Founded Year</th>\n",
       "      <th>Country</th>\n",
       "      <th>City</th>\n",
       "      <th>Practice Areas</th>\n",
       "      <th>Feed Name</th>\n",
       "      <th>Special Flags : Yes</th>\n",
       "      <th>Special Flags : No</th>\n",
       "      <th>Company Stage</th>\n",
       "      <th>Is Funded</th>\n",
       "      <th>Total Funding (USD)</th>\n",
       "      <th>Total Employee Count</th>\n",
       "      <th>Is IPO</th>\n",
       "    </tr>\n",
       "  </thead>\n",
       "  <tbody>\n",
       "    <tr>\n",
       "      <th>0</th>\n",
       "      <td>1</td>\n",
       "      <td>BlackRock</td>\n",
       "      <td>blackrock.com</td>\n",
       "      <td>1988</td>\n",
       "      <td>United States</td>\n",
       "      <td>New York City</td>\n",
       "      <td>Investment Industry,\\nInvestment Industry,\\nIn...</td>\n",
       "      <td>Private Debt Funds,\\nReal Estate Funds,\\nSecon...</td>\n",
       "      <td>NaN</td>\n",
       "      <td>NaN</td>\n",
       "      <td>Public</td>\n",
       "      <td>Yes</td>\n",
       "      <td>0</td>\n",
       "      <td>13 900</td>\n",
       "      <td>No</td>\n",
       "    </tr>\n",
       "    <tr>\n",
       "      <th>1</th>\n",
       "      <td>2</td>\n",
       "      <td>Blackstone</td>\n",
       "      <td>blackstone.com</td>\n",
       "      <td>1985</td>\n",
       "      <td>United States,\\nUnited Kingdom,\\nChina,\\nUnite...</td>\n",
       "      <td>New York City,\\nLondon,\\nHong Kong,\\nBaltimore...</td>\n",
       "      <td>Investment Industry,\\nInvestment Industry,\\nIn...</td>\n",
       "      <td>Private Equity Funds,\\nLimited Partners,\\nPriv...</td>\n",
       "      <td>NaN</td>\n",
       "      <td>Social Impact</td>\n",
       "      <td>Public</td>\n",
       "      <td>No</td>\n",
       "      <td>0</td>\n",
       "      <td>3</td>\n",
       "      <td>Yes</td>\n",
       "    </tr>\n",
       "    <tr>\n",
       "      <th>2</th>\n",
       "      <td>3</td>\n",
       "      <td>KKR</td>\n",
       "      <td>kkr.com</td>\n",
       "      <td>1976</td>\n",
       "      <td>United States,\\nUnited States,\\nUnited States,...</td>\n",
       "      <td>New York City,\\nHouston,\\nSan Francisco,\\nMenl...</td>\n",
       "      <td>Investment Industry,\\nInvestment Industry,\\nIn...</td>\n",
       "      <td>Private Equity Funds,\\nPrivate Debt Funds,\\nRe...</td>\n",
       "      <td>NaN</td>\n",
       "      <td>Social Impact</td>\n",
       "      <td>Funding Raised</td>\n",
       "      <td>Yes</td>\n",
       "      <td>0</td>\n",
       "      <td>NaN</td>\n",
       "      <td>No</td>\n",
       "    </tr>\n",
       "    <tr>\n",
       "      <th>3</th>\n",
       "      <td>4</td>\n",
       "      <td>Citadel</td>\n",
       "      <td>citadel.com</td>\n",
       "      <td>1990</td>\n",
       "      <td>United States</td>\n",
       "      <td>Chicago</td>\n",
       "      <td>Investment Industry</td>\n",
       "      <td>Hedge Funds</td>\n",
       "      <td>NaN</td>\n",
       "      <td>Social Impact</td>\n",
       "      <td>Acquired</td>\n",
       "      <td>No</td>\n",
       "      <td>0</td>\n",
       "      <td>NaN</td>\n",
       "      <td>No</td>\n",
       "    </tr>\n",
       "    <tr>\n",
       "      <th>4</th>\n",
       "      <td>5</td>\n",
       "      <td>D. E. Shaw Group</td>\n",
       "      <td>deshaw.com</td>\n",
       "      <td>1988</td>\n",
       "      <td>United States</td>\n",
       "      <td>New York City</td>\n",
       "      <td>Investment Industry,\\nFinancial Services</td>\n",
       "      <td>Hedge Funds,\\nAsset Management</td>\n",
       "      <td>Enterprise</td>\n",
       "      <td>Blockchain,\\nArtificial Intelligence,\\nSocial ...</td>\n",
       "      <td>Acquired</td>\n",
       "      <td>No</td>\n",
       "      <td>0</td>\n",
       "      <td>NaN</td>\n",
       "      <td>No</td>\n",
       "    </tr>\n",
       "    <tr>\n",
       "      <th>5</th>\n",
       "      <td>6</td>\n",
       "      <td>TCX</td>\n",
       "      <td>tcxfund.com</td>\n",
       "      <td>2007</td>\n",
       "      <td>Netherlands</td>\n",
       "      <td>Amsterdam</td>\n",
       "      <td>Investment Industry</td>\n",
       "      <td>Hedge Funds</td>\n",
       "      <td>NaN</td>\n",
       "      <td>Social Impact</td>\n",
       "      <td>Series B</td>\n",
       "      <td>Yes</td>\n",
       "      <td>59838593</td>\n",
       "      <td>NaN</td>\n",
       "      <td>No</td>\n",
       "    </tr>\n",
       "  </tbody>\n",
       "</table>\n",
       "</div>"
      ],
      "text/plain": [
       "   SNo.      Company Name     Domain Name  Founded Year  \\\n",
       "0     1         BlackRock   blackrock.com          1988   \n",
       "1     2        Blackstone  blackstone.com          1985   \n",
       "2     3               KKR         kkr.com          1976   \n",
       "3     4           Citadel     citadel.com          1990   \n",
       "4     5  D. E. Shaw Group      deshaw.com          1988   \n",
       "5     6               TCX     tcxfund.com          2007   \n",
       "\n",
       "                                             Country  \\\n",
       "0                                      United States   \n",
       "1  United States,\\nUnited Kingdom,\\nChina,\\nUnite...   \n",
       "2  United States,\\nUnited States,\\nUnited States,...   \n",
       "3                                      United States   \n",
       "4                                      United States   \n",
       "5                                        Netherlands   \n",
       "\n",
       "                                                City  \\\n",
       "0                                      New York City   \n",
       "1  New York City,\\nLondon,\\nHong Kong,\\nBaltimore...   \n",
       "2  New York City,\\nHouston,\\nSan Francisco,\\nMenl...   \n",
       "3                                            Chicago   \n",
       "4                                      New York City   \n",
       "5                                          Amsterdam   \n",
       "\n",
       "                                      Practice Areas  \\\n",
       "0  Investment Industry,\\nInvestment Industry,\\nIn...   \n",
       "1  Investment Industry,\\nInvestment Industry,\\nIn...   \n",
       "2  Investment Industry,\\nInvestment Industry,\\nIn...   \n",
       "3                                Investment Industry   \n",
       "4           Investment Industry,\\nFinancial Services   \n",
       "5                                Investment Industry   \n",
       "\n",
       "                                           Feed Name Special Flags : Yes  \\\n",
       "0  Private Debt Funds,\\nReal Estate Funds,\\nSecon...                 NaN   \n",
       "1  Private Equity Funds,\\nLimited Partners,\\nPriv...                 NaN   \n",
       "2  Private Equity Funds,\\nPrivate Debt Funds,\\nRe...                 NaN   \n",
       "3                                        Hedge Funds                 NaN   \n",
       "4                     Hedge Funds,\\nAsset Management          Enterprise   \n",
       "5                                        Hedge Funds                 NaN   \n",
       "\n",
       "                                  Special Flags : No   Company Stage  \\\n",
       "0                                                NaN          Public   \n",
       "1                                      Social Impact          Public   \n",
       "2                                      Social Impact  Funding Raised   \n",
       "3                                      Social Impact        Acquired   \n",
       "4  Blockchain,\\nArtificial Intelligence,\\nSocial ...        Acquired   \n",
       "5                                      Social Impact        Series B   \n",
       "\n",
       "  Is Funded  Total Funding (USD) Total Employee Count Is IPO  \n",
       "0       Yes                    0               13 900     No  \n",
       "1        No                    0                    3    Yes  \n",
       "2       Yes                    0                  NaN     No  \n",
       "3        No                    0                  NaN     No  \n",
       "4        No                    0                  NaN     No  \n",
       "5       Yes             59838593                  NaN     No  "
      ]
     },
     "execution_count": 8,
     "metadata": {},
     "output_type": "execute_result"
    }
   ],
   "source": [
    "tracxn_database['Total Funding (USD)'] = tracxn_database['Total Funding (USD)'].replace(r'\\D+', '', regex=True)\n",
    "tracxn_database['Total Funding (USD)'] = tracxn_database['Total Funding (USD)'].fillna(0)\n",
    "tracxn_database['Total Funding (USD)'] = tracxn_database['Total Funding (USD)'].astype(int)\n",
    "tracxn_database.head(6)"
   ]
  },
  {
   "cell_type": "markdown",
   "id": "8432ccf7",
   "metadata": {},
   "source": [
    "Также вместо обычных запятых там стоят еще символы пропуска строки. Избавимся от них с помощью самодельной функции"
   ]
  },
  {
   "cell_type": "code",
   "execution_count": 9,
   "id": "42d79d16",
   "metadata": {},
   "outputs": [],
   "source": [
    "#Проходимся по всему датасету, выделяем интересующее нас значения и заменяем его на новое \n",
    "def get_rid_of_slashn(dataset): \n",
    "    \n",
    "    for i in dataset.keys():\n",
    "        \n",
    "        for j in range(len(dataset[i])):\n",
    "            \n",
    "            if type(dataset[i][j]) == str and '\\n' in dataset[i][j]:\n",
    "                list_without_slashn = dataset[i][j].split('\\n')\n",
    "                new_value = ''\n",
    "                \n",
    "                for k in range(len(list_without_slashn)):\n",
    "                    \n",
    "                    if k == len(list_without_slashn) - 1:\n",
    "                        new_value += list_without_slashn[k]\n",
    "                        \n",
    "                    new_value += list_without_slashn[k] + ' '\n",
    "                    \n",
    "                dataset[i][j] = new_value\n",
    "                \n",
    "    return dataset"
   ]
  },
  {
   "cell_type": "markdown",
   "id": "0bf11ce4",
   "metadata": {},
   "source": [
    "Применим функцию к датасету"
   ]
  },
  {
   "cell_type": "code",
   "execution_count": 10,
   "id": "11cacfb1",
   "metadata": {},
   "outputs": [
    {
     "name": "stderr",
     "output_type": "stream",
     "text": [
      "/var/folders/9d/gc4t49ts0js05tjpd78zspl40000gp/T/ipykernel_56449/2178354362.py:19: SettingWithCopyWarning: \n",
      "A value is trying to be set on a copy of a slice from a DataFrame\n",
      "\n",
      "See the caveats in the documentation: https://pandas.pydata.org/pandas-docs/stable/user_guide/indexing.html#returning-a-view-versus-a-copy\n",
      "  dataset[i][j] = new_value\n"
     ]
    }
   ],
   "source": [
    "tracxn_database_values_without_slashn = get_rid_of_slashn(tracxn_database)"
   ]
  },
  {
   "cell_type": "code",
   "execution_count": 11,
   "id": "13c539cf",
   "metadata": {},
   "outputs": [
    {
     "data": {
      "text/html": [
       "<div>\n",
       "<style scoped>\n",
       "    .dataframe tbody tr th:only-of-type {\n",
       "        vertical-align: middle;\n",
       "    }\n",
       "\n",
       "    .dataframe tbody tr th {\n",
       "        vertical-align: top;\n",
       "    }\n",
       "\n",
       "    .dataframe thead th {\n",
       "        text-align: right;\n",
       "    }\n",
       "</style>\n",
       "<table border=\"1\" class=\"dataframe\">\n",
       "  <thead>\n",
       "    <tr style=\"text-align: right;\">\n",
       "      <th></th>\n",
       "      <th>SNo.</th>\n",
       "      <th>Company Name</th>\n",
       "      <th>Domain Name</th>\n",
       "      <th>Founded Year</th>\n",
       "      <th>Country</th>\n",
       "      <th>City</th>\n",
       "      <th>Practice Areas</th>\n",
       "      <th>Feed Name</th>\n",
       "      <th>Special Flags : Yes</th>\n",
       "      <th>Special Flags : No</th>\n",
       "      <th>Company Stage</th>\n",
       "      <th>Is Funded</th>\n",
       "      <th>Total Funding (USD)</th>\n",
       "      <th>Total Employee Count</th>\n",
       "      <th>Is IPO</th>\n",
       "    </tr>\n",
       "  </thead>\n",
       "  <tbody>\n",
       "    <tr>\n",
       "      <th>0</th>\n",
       "      <td>1</td>\n",
       "      <td>BlackRock</td>\n",
       "      <td>blackrock.com</td>\n",
       "      <td>1988</td>\n",
       "      <td>United States</td>\n",
       "      <td>New York City</td>\n",
       "      <td>Investment Industry, Investment Industry, Inve...</td>\n",
       "      <td>Private Debt Funds, Real Estate Funds, Seconda...</td>\n",
       "      <td>NaN</td>\n",
       "      <td>NaN</td>\n",
       "      <td>Public</td>\n",
       "      <td>Yes</td>\n",
       "      <td>0</td>\n",
       "      <td>13 900</td>\n",
       "      <td>No</td>\n",
       "    </tr>\n",
       "    <tr>\n",
       "      <th>1</th>\n",
       "      <td>2</td>\n",
       "      <td>Blackstone</td>\n",
       "      <td>blackstone.com</td>\n",
       "      <td>1985</td>\n",
       "      <td>United States, United Kingdom, China, United S...</td>\n",
       "      <td>New York City, London, Hong Kong, Baltimore, B...</td>\n",
       "      <td>Investment Industry, Investment Industry, Inve...</td>\n",
       "      <td>Private Equity Funds, Limited Partners, Privat...</td>\n",
       "      <td>NaN</td>\n",
       "      <td>Social Impact</td>\n",
       "      <td>Public</td>\n",
       "      <td>No</td>\n",
       "      <td>0</td>\n",
       "      <td>3</td>\n",
       "      <td>Yes</td>\n",
       "    </tr>\n",
       "    <tr>\n",
       "      <th>2</th>\n",
       "      <td>3</td>\n",
       "      <td>KKR</td>\n",
       "      <td>kkr.com</td>\n",
       "      <td>1976</td>\n",
       "      <td>United States, United States, United States, U...</td>\n",
       "      <td>New York City, Houston, San Francisco, Menlo P...</td>\n",
       "      <td>Investment Industry, Investment Industry, Inve...</td>\n",
       "      <td>Private Equity Funds, Private Debt Funds, Real...</td>\n",
       "      <td>NaN</td>\n",
       "      <td>Social Impact</td>\n",
       "      <td>Funding Raised</td>\n",
       "      <td>Yes</td>\n",
       "      <td>0</td>\n",
       "      <td>NaN</td>\n",
       "      <td>No</td>\n",
       "    </tr>\n",
       "    <tr>\n",
       "      <th>3</th>\n",
       "      <td>4</td>\n",
       "      <td>Citadel</td>\n",
       "      <td>citadel.com</td>\n",
       "      <td>1990</td>\n",
       "      <td>United States</td>\n",
       "      <td>Chicago</td>\n",
       "      <td>Investment Industry</td>\n",
       "      <td>Hedge Funds</td>\n",
       "      <td>NaN</td>\n",
       "      <td>Social Impact</td>\n",
       "      <td>Acquired</td>\n",
       "      <td>No</td>\n",
       "      <td>0</td>\n",
       "      <td>NaN</td>\n",
       "      <td>No</td>\n",
       "    </tr>\n",
       "    <tr>\n",
       "      <th>4</th>\n",
       "      <td>5</td>\n",
       "      <td>D. E. Shaw Group</td>\n",
       "      <td>deshaw.com</td>\n",
       "      <td>1988</td>\n",
       "      <td>United States</td>\n",
       "      <td>New York City</td>\n",
       "      <td>Investment Industry, Financial ServicesFinanci...</td>\n",
       "      <td>Hedge Funds, Asset ManagementAsset Management</td>\n",
       "      <td>Enterprise</td>\n",
       "      <td>Blockchain, Artificial Intelligence, Social Im...</td>\n",
       "      <td>Acquired</td>\n",
       "      <td>No</td>\n",
       "      <td>0</td>\n",
       "      <td>NaN</td>\n",
       "      <td>No</td>\n",
       "    </tr>\n",
       "  </tbody>\n",
       "</table>\n",
       "</div>"
      ],
      "text/plain": [
       "   SNo.      Company Name     Domain Name  Founded Year  \\\n",
       "0     1         BlackRock   blackrock.com          1988   \n",
       "1     2        Blackstone  blackstone.com          1985   \n",
       "2     3               KKR         kkr.com          1976   \n",
       "3     4           Citadel     citadel.com          1990   \n",
       "4     5  D. E. Shaw Group      deshaw.com          1988   \n",
       "\n",
       "                                             Country  \\\n",
       "0                                      United States   \n",
       "1  United States, United Kingdom, China, United S...   \n",
       "2  United States, United States, United States, U...   \n",
       "3                                      United States   \n",
       "4                                      United States   \n",
       "\n",
       "                                                City  \\\n",
       "0                                      New York City   \n",
       "1  New York City, London, Hong Kong, Baltimore, B...   \n",
       "2  New York City, Houston, San Francisco, Menlo P...   \n",
       "3                                            Chicago   \n",
       "4                                      New York City   \n",
       "\n",
       "                                      Practice Areas  \\\n",
       "0  Investment Industry, Investment Industry, Inve...   \n",
       "1  Investment Industry, Investment Industry, Inve...   \n",
       "2  Investment Industry, Investment Industry, Inve...   \n",
       "3                                Investment Industry   \n",
       "4  Investment Industry, Financial ServicesFinanci...   \n",
       "\n",
       "                                           Feed Name Special Flags : Yes  \\\n",
       "0  Private Debt Funds, Real Estate Funds, Seconda...                 NaN   \n",
       "1  Private Equity Funds, Limited Partners, Privat...                 NaN   \n",
       "2  Private Equity Funds, Private Debt Funds, Real...                 NaN   \n",
       "3                                        Hedge Funds                 NaN   \n",
       "4     Hedge Funds, Asset ManagementAsset Management           Enterprise   \n",
       "\n",
       "                                  Special Flags : No   Company Stage  \\\n",
       "0                                                NaN          Public   \n",
       "1                                      Social Impact          Public   \n",
       "2                                      Social Impact  Funding Raised   \n",
       "3                                      Social Impact        Acquired   \n",
       "4  Blockchain, Artificial Intelligence, Social Im...        Acquired   \n",
       "\n",
       "  Is Funded  Total Funding (USD) Total Employee Count Is IPO  \n",
       "0       Yes                    0               13 900     No  \n",
       "1        No                    0                    3    Yes  \n",
       "2       Yes                    0                  NaN     No  \n",
       "3        No                    0                  NaN     No  \n",
       "4        No                    0                  NaN     No  "
      ]
     },
     "execution_count": 11,
     "metadata": {},
     "output_type": "execute_result"
    }
   ],
   "source": [
    "tracxn_database_values_without_slashn.head()"
   ]
  },
  {
   "cell_type": "markdown",
   "id": "ddc3a025",
   "metadata": {},
   "source": [
    "Есть еще проблема с количеством сотрудников, но учитывая, что у BlackStone их всего 3, что конечно не так - обойдемся без этих данных"
   ]
  },
  {
   "cell_type": "code",
   "execution_count": 12,
   "id": "a61cdf15",
   "metadata": {},
   "outputs": [
    {
     "data": {
      "text/html": [
       "<div>\n",
       "<style scoped>\n",
       "    .dataframe tbody tr th:only-of-type {\n",
       "        vertical-align: middle;\n",
       "    }\n",
       "\n",
       "    .dataframe tbody tr th {\n",
       "        vertical-align: top;\n",
       "    }\n",
       "\n",
       "    .dataframe thead th {\n",
       "        text-align: right;\n",
       "    }\n",
       "</style>\n",
       "<table border=\"1\" class=\"dataframe\">\n",
       "  <thead>\n",
       "    <tr style=\"text-align: right;\">\n",
       "      <th></th>\n",
       "      <th>SNo.</th>\n",
       "      <th>Company Name</th>\n",
       "      <th>Domain Name</th>\n",
       "      <th>Founded Year</th>\n",
       "      <th>Country</th>\n",
       "      <th>City</th>\n",
       "      <th>Practice Areas</th>\n",
       "      <th>Feed Name</th>\n",
       "      <th>Special Flags : Yes</th>\n",
       "      <th>Special Flags : No</th>\n",
       "      <th>Company Stage</th>\n",
       "      <th>Is Funded</th>\n",
       "      <th>Total Funding (USD)</th>\n",
       "      <th>Is IPO</th>\n",
       "    </tr>\n",
       "  </thead>\n",
       "  <tbody>\n",
       "    <tr>\n",
       "      <th>0</th>\n",
       "      <td>1</td>\n",
       "      <td>BlackRock</td>\n",
       "      <td>blackrock.com</td>\n",
       "      <td>1988</td>\n",
       "      <td>United States</td>\n",
       "      <td>New York City</td>\n",
       "      <td>Investment Industry, Investment Industry, Inve...</td>\n",
       "      <td>Private Debt Funds, Real Estate Funds, Seconda...</td>\n",
       "      <td>NaN</td>\n",
       "      <td>NaN</td>\n",
       "      <td>Public</td>\n",
       "      <td>Yes</td>\n",
       "      <td>0</td>\n",
       "      <td>No</td>\n",
       "    </tr>\n",
       "    <tr>\n",
       "      <th>1</th>\n",
       "      <td>2</td>\n",
       "      <td>Blackstone</td>\n",
       "      <td>blackstone.com</td>\n",
       "      <td>1985</td>\n",
       "      <td>United States, United Kingdom, China, United S...</td>\n",
       "      <td>New York City, London, Hong Kong, Baltimore, B...</td>\n",
       "      <td>Investment Industry, Investment Industry, Inve...</td>\n",
       "      <td>Private Equity Funds, Limited Partners, Privat...</td>\n",
       "      <td>NaN</td>\n",
       "      <td>Social Impact</td>\n",
       "      <td>Public</td>\n",
       "      <td>No</td>\n",
       "      <td>0</td>\n",
       "      <td>Yes</td>\n",
       "    </tr>\n",
       "    <tr>\n",
       "      <th>2</th>\n",
       "      <td>3</td>\n",
       "      <td>KKR</td>\n",
       "      <td>kkr.com</td>\n",
       "      <td>1976</td>\n",
       "      <td>United States, United States, United States, U...</td>\n",
       "      <td>New York City, Houston, San Francisco, Menlo P...</td>\n",
       "      <td>Investment Industry, Investment Industry, Inve...</td>\n",
       "      <td>Private Equity Funds, Private Debt Funds, Real...</td>\n",
       "      <td>NaN</td>\n",
       "      <td>Social Impact</td>\n",
       "      <td>Funding Raised</td>\n",
       "      <td>Yes</td>\n",
       "      <td>0</td>\n",
       "      <td>No</td>\n",
       "    </tr>\n",
       "    <tr>\n",
       "      <th>3</th>\n",
       "      <td>4</td>\n",
       "      <td>Citadel</td>\n",
       "      <td>citadel.com</td>\n",
       "      <td>1990</td>\n",
       "      <td>United States</td>\n",
       "      <td>Chicago</td>\n",
       "      <td>Investment Industry</td>\n",
       "      <td>Hedge Funds</td>\n",
       "      <td>NaN</td>\n",
       "      <td>Social Impact</td>\n",
       "      <td>Acquired</td>\n",
       "      <td>No</td>\n",
       "      <td>0</td>\n",
       "      <td>No</td>\n",
       "    </tr>\n",
       "    <tr>\n",
       "      <th>4</th>\n",
       "      <td>5</td>\n",
       "      <td>D. E. Shaw Group</td>\n",
       "      <td>deshaw.com</td>\n",
       "      <td>1988</td>\n",
       "      <td>United States</td>\n",
       "      <td>New York City</td>\n",
       "      <td>Investment Industry, Financial ServicesFinanci...</td>\n",
       "      <td>Hedge Funds, Asset ManagementAsset Management</td>\n",
       "      <td>Enterprise</td>\n",
       "      <td>Blockchain, Artificial Intelligence, Social Im...</td>\n",
       "      <td>Acquired</td>\n",
       "      <td>No</td>\n",
       "      <td>0</td>\n",
       "      <td>No</td>\n",
       "    </tr>\n",
       "  </tbody>\n",
       "</table>\n",
       "</div>"
      ],
      "text/plain": [
       "   SNo.      Company Name     Domain Name  Founded Year  \\\n",
       "0     1         BlackRock   blackrock.com          1988   \n",
       "1     2        Blackstone  blackstone.com          1985   \n",
       "2     3               KKR         kkr.com          1976   \n",
       "3     4           Citadel     citadel.com          1990   \n",
       "4     5  D. E. Shaw Group      deshaw.com          1988   \n",
       "\n",
       "                                             Country  \\\n",
       "0                                      United States   \n",
       "1  United States, United Kingdom, China, United S...   \n",
       "2  United States, United States, United States, U...   \n",
       "3                                      United States   \n",
       "4                                      United States   \n",
       "\n",
       "                                                City  \\\n",
       "0                                      New York City   \n",
       "1  New York City, London, Hong Kong, Baltimore, B...   \n",
       "2  New York City, Houston, San Francisco, Menlo P...   \n",
       "3                                            Chicago   \n",
       "4                                      New York City   \n",
       "\n",
       "                                      Practice Areas  \\\n",
       "0  Investment Industry, Investment Industry, Inve...   \n",
       "1  Investment Industry, Investment Industry, Inve...   \n",
       "2  Investment Industry, Investment Industry, Inve...   \n",
       "3                                Investment Industry   \n",
       "4  Investment Industry, Financial ServicesFinanci...   \n",
       "\n",
       "                                           Feed Name Special Flags : Yes  \\\n",
       "0  Private Debt Funds, Real Estate Funds, Seconda...                 NaN   \n",
       "1  Private Equity Funds, Limited Partners, Privat...                 NaN   \n",
       "2  Private Equity Funds, Private Debt Funds, Real...                 NaN   \n",
       "3                                        Hedge Funds                 NaN   \n",
       "4     Hedge Funds, Asset ManagementAsset Management           Enterprise   \n",
       "\n",
       "                                  Special Flags : No   Company Stage  \\\n",
       "0                                                NaN          Public   \n",
       "1                                      Social Impact          Public   \n",
       "2                                      Social Impact  Funding Raised   \n",
       "3                                      Social Impact        Acquired   \n",
       "4  Blockchain, Artificial Intelligence, Social Im...        Acquired   \n",
       "\n",
       "  Is Funded  Total Funding (USD) Is IPO  \n",
       "0       Yes                    0     No  \n",
       "1        No                    0    Yes  \n",
       "2       Yes                    0     No  \n",
       "3        No                    0     No  \n",
       "4        No                    0     No  "
      ]
     },
     "execution_count": 12,
     "metadata": {},
     "output_type": "execute_result"
    }
   ],
   "source": [
    "tracxn_database_values_without_slashn = tracxn_database_values_without_slashn.drop('Total Employee Count', axis=1)\n",
    "tracxn_database_values_without_slashn.head()"
   ]
  },
  {
   "cell_type": "markdown",
   "id": "3f9a007a",
   "metadata": {},
   "source": [
    "Чтобы меньше засорять код, переименуем длинное название исправленного датафрейма"
   ]
  },
  {
   "cell_type": "code",
   "execution_count": 13,
   "id": "878695eb",
   "metadata": {},
   "outputs": [],
   "source": [
    "t_d = tracxn_database_values_without_slashn"
   ]
  },
  {
   "cell_type": "markdown",
   "id": "bd40cd34",
   "metadata": {},
   "source": [
    "### Data Analysis"
   ]
  },
  {
   "cell_type": "markdown",
   "id": "7889c682",
   "metadata": {},
   "source": [
    "Проведем небольшой анализ данных"
   ]
  },
  {
   "cell_type": "markdown",
   "id": "53c54241",
   "metadata": {},
   "source": [
    "Интересно посмотреть на стадии развития фондов"
   ]
  },
  {
   "cell_type": "code",
   "execution_count": 14,
   "id": "8a7f46fa",
   "metadata": {},
   "outputs": [
    {
     "data": {
      "image/png": "[encoded data removed]",
      "text/plain": [
       "<Figure size 640x480 with 1 Axes>"
      ]
     },
     "metadata": {},
     "output_type": "display_data"
    }
   ],
   "source": [
    "plt.hist(t_d['Company Stage'])\n",
    "plt.title('Количество фондов по стадиям развития')\n",
    "plt.xticks(rotation=45)\n",
    "plt.show()"
   ]
  },
  {
   "cell_type": "markdown",
   "id": "a504b5f1",
   "metadata": {},
   "source": [
    "То есть, большинство фондов не профондированы и работают за счет своих денег / денег своих знакомых, что логично - это же не стартапы какие-то. Интересно отметить, что следующая по популярности категория - Deadpooled. Это фонды, которые не смогли привлечь финансирование или разорились"
   ]
  },
  {
   "cell_type": "markdown",
   "id": "0239be42",
   "metadata": {},
   "source": [
    "Теперь посмотрим на годы основания фондов с помощью такого же графика"
   ]
  },
  {
   "cell_type": "code",
   "execution_count": 15,
   "id": "cb2b68c0",
   "metadata": {},
   "outputs": [
    {
     "data": {
      "image/png": "[encoded data removed]",
      "text/plain": [
       "<Figure size 1500x300 with 1 Axes>"
      ]
     },
     "metadata": {},
     "output_type": "display_data"
    }
   ],
   "source": [
    "plt.figure(figsize=(15, 3))\n",
    "plt.hist(t_d[t_d['Founded Year'] >= 1970]['Founded Year'])\n",
    "plt.title('Количество фондов, основанных в конкретном году')\n",
    "plt.xticks(rotation=45)\n",
    "plt.show()"
   ]
  },
  {
   "cell_type": "markdown",
   "id": "3164e30d",
   "metadata": {},
   "source": [
    "Интересный результат. Количество фондов постоянно растет, причем неуклонно"
   ]
  },
  {
   "cell_type": "markdown",
   "id": "5ffffdeb",
   "metadata": {},
   "source": [
    "Среди представленных фондов особый интерес представляет Blackstone, как самый большой. Построим дерево его корпоративной структуры с помощью библиотеки для графов (source: https://lexchart.com/org-charts/blackstone-nyse-bx-company-structure/)"
   ]
  },
  {
   "cell_type": "code",
   "execution_count": 16,
   "id": "08618721",
   "metadata": {},
   "outputs": [
    {
     "data": {
      "image/png": "[encoded data removed]",
      "text/plain": [
       "<Figure size 1000x500 with 1 Axes>"
      ]
     },
     "metadata": {},
     "output_type": "display_data"
    }
   ],
   "source": [
    "#Создаме граф\n",
    "Blackstone_structure = nx.DiGraph()\n",
    "\n",
    "#Создаем вершину\n",
    "Blackstone_structure.add_node(\"Blackstone, Inc.\")\n",
    "\n",
    "#Создаем конечные вершины (листы)\n",
    "Blackstone_structure.add_node(\"Blackstone \\n Partners, L.L.C.\")\n",
    "Blackstone_structure.add_node(\"Blackstone Group \\n Management, L.L.C.\")\n",
    "Blackstone_structure.add_node(\"Blackrock, Inc.\")\n",
    "Blackstone_structure.add_node(\"The Vanguard \\n Group, Inc.\")\n",
    "\n",
    "#Добавляем ребра\n",
    "Blackstone_structure.add_edge(\"Blackstone, Inc.\", \"Blackstone \\n Partners, L.L.C.\")\n",
    "Blackstone_structure.add_edge(\"Blackstone, Inc.\", \"Blackstone Group \\n Management, L.L.C.\")\n",
    "Blackstone_structure.add_edge(\"Blackstone, Inc.\", \"Blackrock, Inc.\")\n",
    "Blackstone_structure.add_edge(\"Blackstone, Inc.\", \"The Vanguard \\n Group, Inc.\")\n",
    "\n",
    "#Показываем рисунок\n",
    "plt.figure(figsize=(10,5))\n",
    "nx.draw_networkx(Blackstone_structure, with_labels=True, node_color='grey', node_size=750, font_size=15, font_color='orange')\n",
    "plt.title('Система организации корпорации Blackstone')\n",
    "plt.show()"
   ]
  },
  {
   "cell_type": "markdown",
   "id": "08e4db89",
   "metadata": {},
   "source": [
    "Не очень сложная схема, но нужно помнить, что компания интернациональная. А это значит, что конечные юр. лица разветвляются дальше"
   ]
  },
  {
   "cell_type": "markdown",
   "id": "1ca38e48",
   "metadata": {},
   "source": [
    "### DataSet №2"
   ]
  },
  {
   "cell_type": "markdown",
   "id": "e9d8d3f9",
   "metadata": {},
   "source": [
    "Предыдущий датасет дал нам интересную информацию, но он все же слишком общий (это и неудивительно, учитывая, откуда я его взял). Хотелось бы поподробнее посмотреть на хедж фонды, причем конкретно хедж фонды, а то ранее были представлены и компании с мултиспециализациями"
   ]
  },
  {
   "cell_type": "code",
   "execution_count": 17,
   "id": "c97cc4ec",
   "metadata": {},
   "outputs": [],
   "source": [
    "#Здесь впишите свой путь до файла\n",
    "hedgefunds_database = pd.read_csv('/Users/Alex/Desktop/hedge_funds_list.csv')"
   ]
  },
  {
   "cell_type": "code",
   "execution_count": 18,
   "id": "e8c3f8d2",
   "metadata": {},
   "outputs": [
    {
     "data": {
      "text/html": [
       "<div>\n",
       "<style scoped>\n",
       "    .dataframe tbody tr th:only-of-type {\n",
       "        vertical-align: middle;\n",
       "    }\n",
       "\n",
       "    .dataframe tbody tr th {\n",
       "        vertical-align: top;\n",
       "    }\n",
       "\n",
       "    .dataframe thead th {\n",
       "        text-align: right;\n",
       "    }\n",
       "</style>\n",
       "<table border=\"1\" class=\"dataframe\">\n",
       "  <thead>\n",
       "    <tr style=\"text-align: right;\">\n",
       "      <th></th>\n",
       "      <th>Firm_Name_name</th>\n",
       "      <th>Firm_Name_City</th>\n",
       "      <th>Firm_Name_Country</th>\n",
       "      <th>Firm_Name_AUM_in_millions</th>\n",
       "      <th>Firm_Name_annual_change_in_AUM</th>\n",
       "      <th>Firm_Name_Strategies</th>\n",
       "    </tr>\n",
       "  </thead>\n",
       "  <tbody>\n",
       "    <tr>\n",
       "      <th>0</th>\n",
       "      <td>AQR Capital Management</td>\n",
       "      <td>Greenwich</td>\n",
       "      <td>United States</td>\n",
       "      <td>248,897</td>\n",
       "      <td>-0.1</td>\n",
       "      <td>Multi Strategy, Managed Futures, Event Driven</td>\n",
       "    </tr>\n",
       "    <tr>\n",
       "      <th>1</th>\n",
       "      <td>Bridgewater Associates</td>\n",
       "      <td>Westport</td>\n",
       "      <td>United States</td>\n",
       "      <td>235,612</td>\n",
       "      <td>0.0</td>\n",
       "      <td>Long/Short, Global Macro</td>\n",
       "    </tr>\n",
       "    <tr>\n",
       "      <th>2</th>\n",
       "      <td>Citadel Investment Group</td>\n",
       "      <td>Chicago</td>\n",
       "      <td>United States</td>\n",
       "      <td>234,679</td>\n",
       "      <td>0.2</td>\n",
       "      <td>Convertibles, Multi Strategy</td>\n",
       "    </tr>\n",
       "    <tr>\n",
       "      <th>3</th>\n",
       "      <td>Millennium Capital Partners</td>\n",
       "      <td>New York</td>\n",
       "      <td>United States</td>\n",
       "      <td>218,000</td>\n",
       "      <td>NaN</td>\n",
       "      <td>Multi Strategy</td>\n",
       "    </tr>\n",
       "    <tr>\n",
       "      <th>4</th>\n",
       "      <td>Renaissance Technologies</td>\n",
       "      <td>East Setauket</td>\n",
       "      <td>United States</td>\n",
       "      <td>165,968</td>\n",
       "      <td>0.3</td>\n",
       "      <td>Crypto, Multi Strategy</td>\n",
       "    </tr>\n",
       "  </tbody>\n",
       "</table>\n",
       "</div>"
      ],
      "text/plain": [
       "                Firm_Name_name Firm_Name_City Firm_Name_Country  \\\n",
       "0       AQR Capital Management      Greenwich     United States   \n",
       "1       Bridgewater Associates       Westport     United States   \n",
       "2     Citadel Investment Group        Chicago     United States   \n",
       "3  Millennium Capital Partners       New York     United States   \n",
       "4     Renaissance Technologies  East Setauket     United States   \n",
       "\n",
       "  Firm_Name_AUM_in_millions  Firm_Name_annual_change_in_AUM  \\\n",
       "0                   248,897                            -0.1   \n",
       "1                   235,612                             0.0   \n",
       "2                   234,679                             0.2   \n",
       "3                   218,000                             NaN   \n",
       "4                   165,968                             0.3   \n",
       "\n",
       "                            Firm_Name_Strategies  \n",
       "0  Multi Strategy, Managed Futures, Event Driven  \n",
       "1                       Long/Short, Global Macro  \n",
       "2                   Convertibles, Multi Strategy  \n",
       "3                                 Multi Strategy  \n",
       "4                         Crypto, Multi Strategy  "
      ]
     },
     "execution_count": 18,
     "metadata": {},
     "output_type": "execute_result"
    }
   ],
   "source": [
    "hedgefunds_database.head()"
   ]
  },
  {
   "cell_type": "markdown",
   "id": "a90571ef",
   "metadata": {},
   "source": [
    "Это уже выглядит интереснее - тут и страны в более приятном и конкретном формате, расписаны конкретные стратегиии, что главное - есть AUMы"
   ]
  },
  {
   "cell_type": "markdown",
   "id": "6685625e",
   "metadata": {},
   "source": [
    "### Data Preparation"
   ]
  },
  {
   "cell_type": "code",
   "execution_count": 19,
   "id": "1bc8c4ae",
   "metadata": {},
   "outputs": [
    {
     "data": {
      "text/plain": [
       "Firm_Name_name                     object\n",
       "Firm_Name_City                     object\n",
       "Firm_Name_Country                  object\n",
       "Firm_Name_AUM_in_millions          object\n",
       "Firm_Name_annual_change_in_AUM    float64\n",
       "Firm_Name_Strategies               object\n",
       "dtype: object"
      ]
     },
     "metadata": {},
     "output_type": "display_data"
    }
   ],
   "source": [
    "display(hedgefunds_database.dtypes)"
   ]
  },
  {
   "cell_type": "markdown",
   "id": "da2ec5a5",
   "metadata": {},
   "source": [
    "Данные неплохи, только хотелось бы переделать AUM в формат float"
   ]
  },
  {
   "cell_type": "code",
   "execution_count": 20,
   "id": "d6a5369f",
   "metadata": {},
   "outputs": [],
   "source": [
    "hedgefunds_database['Firm_Name_AUM_in_millions'] = hedgefunds_database['Firm_Name_AUM_in_millions'].str.replace(',', '.').astype(float)"
   ]
  },
  {
   "cell_type": "code",
   "execution_count": 21,
   "id": "3ce9d805",
   "metadata": {},
   "outputs": [
    {
     "data": {
      "text/plain": [
       "Firm_Name_name                     object\n",
       "Firm_Name_City                     object\n",
       "Firm_Name_Country                  object\n",
       "Firm_Name_AUM_in_millions         float64\n",
       "Firm_Name_annual_change_in_AUM    float64\n",
       "Firm_Name_Strategies               object\n",
       "dtype: object"
      ]
     },
     "metadata": {},
     "output_type": "display_data"
    }
   ],
   "source": [
    "display(hedgefunds_database.dtypes)"
   ]
  },
  {
   "cell_type": "markdown",
   "id": "30777a99",
   "metadata": {},
   "source": [
    "Теперь всё хорошо"
   ]
  },
  {
   "cell_type": "markdown",
   "id": "255643ec",
   "metadata": {},
   "source": [
    "### Data Analysis"
   ]
  },
  {
   "cell_type": "markdown",
   "id": "a772ee0b",
   "metadata": {},
   "source": [
    "Теперь поанализируем данные"
   ]
  },
  {
   "cell_type": "markdown",
   "id": "cb281f02",
   "metadata": {},
   "source": [
    "Интересно посмотреть на капитализацию по странам. Воспользуемся функциями group, transform и тем фактом, что unique считывает данные по порядку. "
   ]
  },
  {
   "cell_type": "code",
   "execution_count": 22,
   "id": "620e5888",
   "metadata": {},
   "outputs": [
    {
     "data": {
      "text/html": [
       "<div>\n",
       "<style scoped>\n",
       "    .dataframe tbody tr th:only-of-type {\n",
       "        vertical-align: middle;\n",
       "    }\n",
       "\n",
       "    .dataframe tbody tr th {\n",
       "        vertical-align: top;\n",
       "    }\n",
       "\n",
       "    .dataframe thead th {\n",
       "        text-align: right;\n",
       "    }\n",
       "</style>\n",
       "<table border=\"1\" class=\"dataframe\">\n",
       "  <thead>\n",
       "    <tr style=\"text-align: right;\">\n",
       "      <th></th>\n",
       "      <th>Firm_Name_name</th>\n",
       "      <th>Firm_Name_City</th>\n",
       "      <th>Firm_Name_Country</th>\n",
       "      <th>Firm_Name_AUM_in_millions</th>\n",
       "      <th>Firm_Name_annual_change_in_AUM</th>\n",
       "      <th>Firm_Name_Strategies</th>\n",
       "      <th>Country_AUM</th>\n",
       "    </tr>\n",
       "  </thead>\n",
       "  <tbody>\n",
       "    <tr>\n",
       "      <th>0</th>\n",
       "      <td>AQR Capital Management</td>\n",
       "      <td>Greenwich</td>\n",
       "      <td>United States</td>\n",
       "      <td>248.897</td>\n",
       "      <td>-0.1</td>\n",
       "      <td>Multi Strategy, Managed Futures, Event Driven</td>\n",
       "      <td>3900.439</td>\n",
       "    </tr>\n",
       "    <tr>\n",
       "      <th>1</th>\n",
       "      <td>Bridgewater Associates</td>\n",
       "      <td>Westport</td>\n",
       "      <td>United States</td>\n",
       "      <td>235.612</td>\n",
       "      <td>0.0</td>\n",
       "      <td>Long/Short, Global Macro</td>\n",
       "      <td>3900.439</td>\n",
       "    </tr>\n",
       "    <tr>\n",
       "      <th>2</th>\n",
       "      <td>Citadel Investment Group</td>\n",
       "      <td>Chicago</td>\n",
       "      <td>United States</td>\n",
       "      <td>234.679</td>\n",
       "      <td>0.2</td>\n",
       "      <td>Convertibles, Multi Strategy</td>\n",
       "      <td>3900.439</td>\n",
       "    </tr>\n",
       "    <tr>\n",
       "      <th>3</th>\n",
       "      <td>Millennium Capital Partners</td>\n",
       "      <td>New York</td>\n",
       "      <td>United States</td>\n",
       "      <td>218.000</td>\n",
       "      <td>NaN</td>\n",
       "      <td>Multi Strategy</td>\n",
       "      <td>3900.439</td>\n",
       "    </tr>\n",
       "    <tr>\n",
       "      <th>4</th>\n",
       "      <td>Renaissance Technologies</td>\n",
       "      <td>East Setauket</td>\n",
       "      <td>United States</td>\n",
       "      <td>165.968</td>\n",
       "      <td>0.3</td>\n",
       "      <td>Crypto, Multi Strategy</td>\n",
       "      <td>3900.439</td>\n",
       "    </tr>\n",
       "  </tbody>\n",
       "</table>\n",
       "</div>"
      ],
      "text/plain": [
       "                Firm_Name_name Firm_Name_City Firm_Name_Country  \\\n",
       "0       AQR Capital Management      Greenwich     United States   \n",
       "1       Bridgewater Associates       Westport     United States   \n",
       "2     Citadel Investment Group        Chicago     United States   \n",
       "3  Millennium Capital Partners       New York     United States   \n",
       "4     Renaissance Technologies  East Setauket     United States   \n",
       "\n",
       "   Firm_Name_AUM_in_millions  Firm_Name_annual_change_in_AUM  \\\n",
       "0                    248.897                            -0.1   \n",
       "1                    235.612                             0.0   \n",
       "2                    234.679                             0.2   \n",
       "3                    218.000                             NaN   \n",
       "4                    165.968                             0.3   \n",
       "\n",
       "                            Firm_Name_Strategies  Country_AUM  \n",
       "0  Multi Strategy, Managed Futures, Event Driven     3900.439  \n",
       "1                       Long/Short, Global Macro     3900.439  \n",
       "2                   Convertibles, Multi Strategy     3900.439  \n",
       "3                                 Multi Strategy     3900.439  \n",
       "4                         Crypto, Multi Strategy     3900.439  "
      ]
     },
     "execution_count": 22,
     "metadata": {},
     "output_type": "execute_result"
    }
   ],
   "source": [
    "hedgefunds_database['Country_AUM'] = hedgefunds_database.groupby('Firm_Name_Country')['Firm_Name_AUM_in_millions'].transform('sum')\n",
    "hedgefunds_database.head()"
   ]
  },
  {
   "cell_type": "code",
   "execution_count": 23,
   "id": "00516010",
   "metadata": {},
   "outputs": [
    {
     "name": "stdout",
     "output_type": "stream",
     "text": [
      "AUM in United States is 3900.439 mn$\n",
      "AUM in United Kingdom is 428.29699999999997 mn$\n",
      "AUM in France is 47.737 mn$\n",
      "AUM in Hong Kong is 101.608 mn$\n",
      "AUM in Switzerland is 31.715 mn$\n",
      "AUM in Brazil is 28.21 mn$\n",
      "AUM in Australia is 16.431 mn$\n",
      "AUM in Denmark is 15.5 mn$\n",
      "AUM in Sweden is 14.2 mn$\n"
     ]
    }
   ],
   "source": [
    "for i, j in zip(hedgefunds_database['Firm_Name_Country'].unique(), hedgefunds_database['Country_AUM'].unique()):\n",
    "    print('AUM in', i, 'is', j, 'mn$')"
   ]
  },
  {
   "cell_type": "markdown",
   "id": "6a15bb79",
   "metadata": {},
   "source": [
    "Америка далеко впереди, хотя тот факт, что в бедной Бразилии эта цифра сопоставима с богатой и процветающей Швецарией и даже превосходит Данию со Швецией - по истине интересная информация"
   ]
  },
  {
   "cell_type": "markdown",
   "id": "dc06b81d",
   "metadata": {},
   "source": [
    "Теперь создадим db файл с помощью sql, куда запишем самую интересную информацию о фондах - название, страну и AUM. В дальнейшем ее кто-нибудь сможет ей воспользоваться"
   ]
  },
  {
   "cell_type": "code",
   "execution_count": 27,
   "id": "72de3c75",
   "metadata": {},
   "outputs": [],
   "source": [
    "# Создаем связь с SQLite базой данных\n",
    "conn = sqlite3.connect('hedge_funds.db')\n",
    "\n",
    "# Создаем объект курсор, чтобы выполнять команды\n",
    "cursor = conn.cursor()\n",
    "\n",
    "# Создаем таблицу\n",
    "# !!! Если таблица не создается, то просто слегка ее переименуйте, и она появится !!!\n",
    "cursor.execute('''CREATE TABLE HedgeFund\n",
    "                (Fund_name TEXT, Country TEXT, AUM REAL)''')\n",
    "\n",
    "# Заполняем таблицу данными\n",
    "for i in range(len(hedgefunds_database)):\n",
    "\n",
    "    fund_name = hedgefunds_database.iloc[i][0]\n",
    "    country = hedgefunds_database.iloc[i][2]\n",
    "    AUM = hedgefunds_database.iloc[i][3]\n",
    "    \n",
    "    # Вставляем строки в таблицу\n",
    "    cursor.execute(f\"INSERT INTO funds VALUES ('{fund_name}', '{country}', {AUM})\")\n",
    "\n",
    "# Коммитим изменения в базу данных\n",
    "conn.commit()\n",
    "\n",
    "# Закрываем связь\n",
    "conn.close()"
   ]
  },
  {
   "cell_type": "markdown",
   "id": "a753c4f9",
   "metadata": {},
   "source": [
    "Готово, можно пользоваться"
   ]
  },
  {
   "cell_type": "markdown",
   "id": "ade6dd1a",
   "metadata": {},
   "source": [
    "Теперь покажем расположение фондов на карте с помощью библиотеки geopandas. Чем больше точка - тем больше фондов находится в местности"
   ]
  },
  {
   "cell_type": "code",
   "execution_count": 28,
   "id": "46f9e86b",
   "metadata": {},
   "outputs": [
    {
     "name": "stderr",
     "output_type": "stream",
     "text": [
      "/var/folders/9d/gc4t49ts0js05tjpd78zspl40000gp/T/ipykernel_56449/2554092622.py:2: FutureWarning: The geopandas.dataset module is deprecated and will be removed in GeoPandas 1.0. You can get the original 'naturalearth_lowres' data from https://www.naturalearthdata.com/downloads/110m-cultural-vectors/.\n",
      "  world_map = gpd.read_file(gpd.datasets.get_path('naturalearth_lowres'))\n"
     ]
    },
    {
     "data": {
      "image/png": "[encoded data removed]",
      "text/plain": [
       "<Figure size 1000x600 with 1 Axes>"
      ]
     },
     "metadata": {},
     "output_type": "display_data"
    }
   ],
   "source": [
    "#Скачиваем карту мира\n",
    "world_map = gpd.read_file(gpd.datasets.get_path('naturalearth_lowres'))\n",
    "\n",
    "#Добавляем координаты\n",
    "coordinates = [('United States', (37.0902, -95.7129)), ('United Kingdom', (55.3781, -3.4360)), ('France', (46.2276, 2.2137)), ('Hong Kong', (22.3193, 114.1694)), ('Switzerland', (46.8182, 8.2275)), ('Brazil', (-14.2350, -51.9253)), ('Australia', (-25.2744, 133.7751)), ('Denmark', (56.2639, 9.5018)), ('Sweden', (60.1282, 18.6435))]\n",
    "\n",
    "#Рисуем точки на графике\n",
    "ax = world_map.plot(figsize=(10, 6))\n",
    "\n",
    "for i in range(len(coordinates)):\n",
    "    points = gpd.GeoDataFrame(geometry=gpd.points_from_xy([coordinates[i][1][1]], [coordinates[i][1][0]]))\n",
    "    points.plot(ax=ax, color='red', markersize=1.5*len(hedgefunds_database[hedgefunds_database['Firm_Name_Country'] == coordinates[i][0]]))\n",
    "\n",
    "plt.show()"
   ]
  },
  {
   "cell_type": "markdown",
   "id": "a4840db1",
   "metadata": {},
   "source": [
    "В Америке хедж-фондов сильно больше, чем где-либо еще"
   ]
  },
  {
   "cell_type": "markdown",
   "id": "741ef141",
   "metadata": {},
   "source": [
    "Теперь посмотрим на типы хедж фондов. Воспользуемся beautiful soup для получения данных с проверенного сайта"
   ]
  },
  {
   "cell_type": "code",
   "execution_count": 29,
   "id": "f0223e96",
   "metadata": {},
   "outputs": [
    {
     "name": "stdout",
     "output_type": "stream",
     "text": [
      "Global macro hedge fund: These are actively-managed funds that speculate on broad market fluctuations caused by economic or political events. Fund managers may invest in company stocks, bonds, currencies, commodities, derivatives (such as futures or options contracts) and other instruments. They would analyse global fiscal and monetary policy alongside geopolitical trends to make decisions. \n",
      "\n",
      "Equity hedge funds: An equity fund would invest predominantly in stocks. The aim is usually to beat stock-market benchmarks, such as S&P 500 (US500) in the US, and FTSE 100 (UK100) in the UK. \n",
      "\n",
      "Relative value hedge fund: These types of funds rely on arbitrage, which is when you seek to generate profit from small differences in price between similar, or identical securities.\n",
      "\n",
      "Activist hedge fund: This type of hedge fund would take an active position in the management of companies in which it invests, which means it would act as an activist shareholder of the stock. The activism tends to occur after the hedge fund has gained majority holding of a company, as it may then force fundamental changes to increase the target company’s valuation. This may include cutting costs, or changing the board of directors. \n",
      "\n"
     ]
    }
   ],
   "source": [
    "#Указываем интересущую веб страницу\n",
    "url = 'https://capital.com/hedge-fund-definiton'\n",
    "\n",
    "#Отсылаем HTTP запрос и получаем ответ\n",
    "response = requests.get(url)\n",
    "\n",
    "#Парсим данные с помощью библиотеки\n",
    "soup = BeautifulSoup(response.content, 'html.parser')\n",
    "\n",
    "#Находим нужную секцию и парсим текст\n",
    "types_of_hedge_funds = soup.find('h2', text='Types of hedge funds').find_next('ul')\n",
    "\n",
    "#Выводим текст\n",
    "for item in types_of_hedge_funds.find_all('li'):\n",
    "    print(item.text)\n",
    "    print()"
   ]
  },
  {
   "cell_type": "markdown",
   "id": "9a35433f",
   "metadata": {},
   "source": [
    "Из представленных фондов реалистично взглянуть на стратегии фонда 2 типа - equity hedge funds. Во всех остальных случаях тест стратегий крайне затруднителен"
   ]
  },
  {
   "cell_type": "markdown",
   "id": "e1be7485",
   "metadata": {},
   "source": [
    "### Работа со стратегиями"
   ]
  },
  {
   "cell_type": "markdown",
   "id": "5e09ac78",
   "metadata": {},
   "source": [
    "Теперь рассмотрим популярные трейдинговые стратегии. Воспользуемся API Yahoo Finance для извлечения цен S&P500 за последние 3 года"
   ]
  },
  {
   "cell_type": "code",
   "execution_count": 30,
   "id": "7c6f5ed9",
   "metadata": {},
   "outputs": [],
   "source": [
    "df_GSPC = yf.download('^GSPC', start='2020-09-15', end='2023-06-10', progress=False)"
   ]
  },
  {
   "cell_type": "markdown",
   "id": "5b888e42",
   "metadata": {},
   "source": [
    "Применим стратегию Moving Average Crossover, широко известную в трейдерских кругах. Реализуем ее с помощью библиотеки QuantLib и numpy"
   ]
  },
  {
   "cell_type": "code",
   "execution_count": 31,
   "id": "dee2017b",
   "metadata": {},
   "outputs": [
    {
     "name": "stdout",
     "output_type": "stream",
     "text": [
      "Option price: 8.506706813776818\n",
      "Buy at 3443.43994140625\n",
      "Sell at 3510.449951171875\n",
      "Buy at 3901.820068359375\n",
      "Sell at 3870.2900390625\n",
      "Buy at 4686.75\n",
      "Sell at 4701.2099609375\n",
      "Buy at 4431.85009765625\n",
      "Sell at 4515.5498046875\n",
      "Buy at 4384.64990234375\n",
      "Sell at 4373.93994140625\n",
      "Buy at 4277.8798828125\n",
      "Sell at 4259.52001953125\n",
      "Buy at 4262.4501953125\n",
      "Sell at 4357.85986328125\n",
      "Buy at 4287.5\n",
      "Sell at 4131.93017578125\n",
      "Buy at 4300.169921875\n",
      "Sell at 4146.8701171875\n",
      "Buy at 4023.889892578125\n",
      "Sell at 4008.010009765625\n",
      "Buy at 4088.85009765625\n",
      "Sell at 3923.679931640625\n",
      "Buy at 4158.240234375\n",
      "Sell at 4132.14990234375\n",
      "Buy at 3764.7900390625\n",
      "Sell at 3759.889892578125\n",
      "Buy at 3911.739990234375\n",
      "Sell at 3900.110107421875\n",
      "Buy at 3936.68994140625\n",
      "Sell at 3959.89990234375\n",
      "Buy at 4023.610107421875\n",
      "Sell at 4072.429931640625\n",
      "Buy at 4210.240234375\n",
      "Sell at 4207.27001953125\n",
      "Buy at 3678.429931640625\n",
      "Sell at 3790.929931640625\n",
      "Buy at 3669.909912109375\n",
      "Sell at 3583.070068359375\n",
      "Buy at 3677.949951171875\n",
      "Sell at 3719.97998046875\n",
      "Buy at 3752.75\n",
      "Sell at 3797.340087890625\n",
      "Buy at 3901.06005859375\n",
      "Sell at 3871.97998046875\n",
      "Buy at 3956.3701171875\n",
      "Sell at 3992.929931640625\n",
      "Buy at 4080.110107421875\n",
      "Sell at 4076.570068359375\n",
      "Buy at 3895.080078125\n",
      "Sell at 3892.090087890625\n",
      "Final cash: 966.5564134702056\n"
     ]
    }
   ],
   "source": [
    "#Сет-ап\n",
    "today = ql.Date.todaysDate()\n",
    "ql.Settings.instance().evaluationDate = today\n",
    "spot = 100\n",
    "rfRate = 0.01\n",
    "\n",
    "#Определяем дату исполнения опциона\n",
    "expiration_date = ql.Date(today.dayOfMonth(), today.month(), today.year()+1)\n",
    "\n",
    "#Определяем выплату по нему\n",
    "payoff = ql.PlainVanillaPayoff(ql.Option.Call, spot)\n",
    "\n",
    "#Определяем исполнение опциона\n",
    "exercise = ql.EuropeanExercise(expiration_date)\n",
    "option = ql.VanillaOption(payoff, exercise)\n",
    "\n",
    "#Считаем цену опциона по модели Блэка-Шоулза\n",
    "u = ql.SimpleQuote(spot)\n",
    "r = ql.SimpleQuote(rfRate)\n",
    "sigma = ql.SimpleQuote(0.20)\n",
    "\n",
    "riskFreeCurve = ql.FlatForward(today, ql.QuoteHandle(r), ql.Actual360())\n",
    "volatility = ql.BlackConstantVol(today, ql.NullCalendar(), ql.QuoteHandle(sigma), ql.Actual360())\n",
    "\n",
    "process = ql.BlackScholesProcess(ql.QuoteHandle(u),\n",
    "                                 ql.YieldTermStructureHandle(riskFreeCurve),\n",
    "                                 ql.BlackVolTermStructureHandle(volatility))\n",
    "\n",
    "option.setPricingEngine(ql.AnalyticEuropeanEngine(process))\n",
    "\n",
    "print(\"Option price:\", option.NPV())\n",
    "\n",
    "#Moving average crossover strategy\n",
    "\n",
    "#Загружаем данные\n",
    "stock_data = np.array(df_GSPC['Close'])\n",
    "\n",
    "#Определяем параметры\n",
    "n_days = 5\n",
    "buy_threshold = 0.02\n",
    "sell_threshold = -0.02\n",
    "\n",
    "#Считаем скользящие средние\n",
    "short_ma = np.convolve(stock_data, np.ones((n_days,))/n_days, mode='valid')\n",
    "long_ma = np.convolve(stock_data, np.ones((n_days*2,))/n_days, mode='valid')\n",
    "\n",
    "#Определяемся с начальной позицией и распологаемыми средствами\n",
    "position = 0\n",
    "cash = 1000\n",
    "\n",
    "#Запускаем стратегию\n",
    "for i in range(n_days*2, stock_data.shape[0]):\n",
    "    \n",
    "    if short_ma[i-n_days*2] > long_ma[i-n_days*2] and position == 0:\n",
    "        \n",
    "        #Покупаем\n",
    "        position = cash/stock_data[i]\n",
    "        cash = 0\n",
    "        print(\"Buy at\", stock_data[i])\n",
    "        \n",
    "    elif short_ma[i-n_days*2] < long_ma[i-n_days*2] and position != 0:\n",
    "        \n",
    "        # Продаем\n",
    "        cash = position*stock_data[i]\n",
    "        position = 0\n",
    "        print(\"Sell at\", stock_data[i])\n",
    "        \n",
    "    elif (stock_data[i] - stock_data[i-1])/stock_data[i-1] > buy_threshold and position == 0:\n",
    "        \n",
    "        #Покупаем из-за положительного изменения цены\n",
    "        position = cash/stock_data[i]\n",
    "        cash = 0\n",
    "        print(\"Buy at\", stock_data[i])\n",
    "        \n",
    "    elif (stock_data[i] - stock_data[i-1])/stock_data[i-1] < sell_threshold and position != 0:\n",
    "        \n",
    "        #Продаем из-за негативного изменения цены\n",
    "        cash = position*stock_data[i]\n",
    "        position = 0\n",
    "        print(\"Sell at\", stock_data[i])\n",
    "        \n",
    "#Продаем оставшиеся акции\n",
    "if position != 0:\n",
    "    cash = position*stock_data[-1]\n",
    "    position = 0\n",
    "print(\"Final cash:\", cash)"
   ]
  },
  {
   "cell_type": "markdown",
   "id": "6102f438",
   "metadata": {},
   "source": [
    "Стратегия показала себя что-то не очень - в итоге мы оказались в минусе"
   ]
  },
  {
   "cell_type": "markdown",
   "id": "399c1fa3",
   "metadata": {},
   "source": [
    "Теперь подпредсказываем цену акций с помошью МО и библиотеки sklearn"
   ]
  },
  {
   "cell_type": "code",
   "execution_count": 32,
   "id": "11e5d8c2",
   "metadata": {},
   "outputs": [
    {
     "data": {
      "image/png": "[encoded data removed]",
      "text/plain": [
       "<Figure size 1000x600 with 1 Axes>"
      ]
     },
     "metadata": {},
     "output_type": "display_data"
    }
   ],
   "source": [
    "#Переименуем для простоты\n",
    "df = df_GSPC\n",
    "\n",
    "# Выбираем features и то, что будем предсказывать\n",
    "X = df.iloc[:, :-1]\n",
    "y = df.iloc[:, -1]\n",
    "\n",
    "#Делим данные на данные для обучения и тестирования\n",
    "X_train, X_test, y_train, y_test = train_test_split(X, y, test_size=0.3, random_state=0)\n",
    "\n",
    "#Обучаем модель\n",
    "model = LinearRegression()\n",
    "model.fit(X_train, y_train)\n",
    "\n",
    "#Предсказываем цену\n",
    "y_pred = model.predict(X_test)\n",
    "\n",
    "#Рисуем на графике\n",
    "fig, ax = plt.subplots(figsize=(10,6))\n",
    "sns.set_style('darkgrid')\n",
    "ax.plot(y_test.values, label='Actual')\n",
    "ax.plot(y_pred, label='Predicted', linestyle='dashed')\n",
    "ax.set_title('Predicted vs Actual Stock Prices')\n",
    "ax.set_ylabel('Stock Price', fontsize=12)\n",
    "ax.legend(fontsize=12)\n",
    "plt.show()"
   ]
  },
  {
   "cell_type": "markdown",
   "id": "5408a72c",
   "metadata": {},
   "source": [
    "Предсказания получились куда менее волатильными, чем реальная цена и, кажется, не очень подходит для торговли"
   ]
  },
  {
   "cell_type": "markdown",
   "id": "56fa17cc",
   "metadata": {},
   "source": [
    "### Выводы"
   ]
  },
  {
   "cell_type": "markdown",
   "id": "650f04ae",
   "metadata": {},
   "source": [
    "Из работы можно получить несолько интересных выводов:\n",
    "    \n",
    "    1. Большинство хедж фондов работают на свои деньги\n",
    "    \n",
    "    2. Америка - страна с самым развитым рынком хедж фондов\n",
    "    \n",
    "    3. Общедоступные стратегии не очень хорошо зарабатывают деньги и предсказывают будущую цену актива"
   ]
  },
  {
   "cell_type": "markdown",
   "id": "d833ca6c",
   "metadata": {},
   "source": [
    "P.S. Строчек кода около 130"
   ]
  }
 ],
 "metadata": {
  "kernelspec": {
   "display_name": "Python 3 (ipykernel)",
   "language": "python",
   "name": "python3"
  },
  "language_info": {
   "codemirror_mode": {
    "name": "ipython",
    "version": 3
   },
   "file_extension": ".py",
   "mimetype": "text/x-python",
   "name": "python",
   "nbconvert_exporter": "python",
   "pygments_lexer": "ipython3",
   "version": "3.9.12"
  }
 },
 "nbformat": 4,
 "nbformat_minor": 5
}
